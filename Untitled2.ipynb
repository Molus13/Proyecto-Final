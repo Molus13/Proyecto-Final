{
 "cells": [
  {
   "cell_type": "code",
   "execution_count": 16,
   "id": "99bd6502",
   "metadata": {},
   "outputs": [],
   "source": [
    "import requests as req\n",
    "import time\n",
    "import openpyxl\n",
    "import warnings\n",
    "import pandas as pd\n",
    "import numpy as np"
   ]
  },
  {
   "cell_type": "code",
   "execution_count": 17,
   "id": "799a587b",
   "metadata": {},
   "outputs": [],
   "source": [
    "df = pd.read_csv('..\\Proyecto-Final\\src\\estadisticas-jugadoras-competicion-liga-.csv')"
   ]
  },
  {
   "cell_type": "code",
   "execution_count": 18,
   "id": "d53dba3e",
   "metadata": {},
   "outputs": [
    {
     "data": {
      "text/plain": [
       "Index(['SOCCER NUMBER', 'NAME', 'TEAM', 'POSITION', 'MATCHES PLAYED', 'GOALS',\n",
       "       'ASSISTS', 'YELLOW CARDS', 'RED CARDS', 'CYCLE RC', 'MINUTES PLAYED',\n",
       "       'NATIONALITY', 'AGE', 'HEIGHT', 'WEIGHT'],\n",
       "      dtype='object')"
      ]
     },
     "execution_count": 18,
     "metadata": {},
     "output_type": "execute_result"
    }
   ],
   "source": [
    "df.columns"
   ]
  },
  {
   "cell_type": "code",
   "execution_count": 19,
   "id": "ae2b62ce",
   "metadata": {},
   "outputs": [
    {
     "name": "stdout",
     "output_type": "stream",
     "text": [
      "<class 'pandas.core.frame.DataFrame'>\n",
      "RangeIndex: 370 entries, 0 to 369\n",
      "Data columns (total 15 columns):\n",
      " #   Column          Non-Null Count  Dtype  \n",
      "---  ------          --------------  -----  \n",
      " 0   SOCCER NUMBER   370 non-null    int64  \n",
      " 1   NAME            370 non-null    object \n",
      " 2   TEAM            370 non-null    object \n",
      " 3   POSITION        370 non-null    object \n",
      " 4   MATCHES PLAYED  370 non-null    int64  \n",
      " 5   GOALS           370 non-null    int64  \n",
      " 6   ASSISTS         370 non-null    int64  \n",
      " 7   YELLOW CARDS    370 non-null    int64  \n",
      " 8   RED CARDS       370 non-null    int64  \n",
      " 9   CYCLE RC        370 non-null    int64  \n",
      " 10  MINUTES PLAYED  370 non-null    int64  \n",
      " 11  NATIONALITY     370 non-null    object \n",
      " 12  AGE             370 non-null    int64  \n",
      " 13  HEIGHT          370 non-null    float64\n",
      " 14  WEIGHT          370 non-null    int64  \n",
      "dtypes: float64(1), int64(10), object(4)\n",
      "memory usage: 43.5+ KB\n"
     ]
    }
   ],
   "source": [
    "df.info()"
   ]
  },
  {
   "cell_type": "code",
   "execution_count": 20,
   "id": "922df0df",
   "metadata": {},
   "outputs": [
    {
     "data": {
      "text/html": [
       "<div>\n",
       "<style scoped>\n",
       "    .dataframe tbody tr th:only-of-type {\n",
       "        vertical-align: middle;\n",
       "    }\n",
       "\n",
       "    .dataframe tbody tr th {\n",
       "        vertical-align: top;\n",
       "    }\n",
       "\n",
       "    .dataframe thead th {\n",
       "        text-align: right;\n",
       "    }\n",
       "</style>\n",
       "<table border=\"1\" class=\"dataframe\">\n",
       "  <thead>\n",
       "    <tr style=\"text-align: right;\">\n",
       "      <th></th>\n",
       "      <th>SOCCER NUMBER</th>\n",
       "      <th>NAME</th>\n",
       "      <th>TEAM</th>\n",
       "      <th>POSITION</th>\n",
       "      <th>MATCHES PLAYED</th>\n",
       "      <th>GOALS</th>\n",
       "      <th>ASSISTS</th>\n",
       "      <th>YELLOW CARDS</th>\n",
       "      <th>RED CARDS</th>\n",
       "      <th>CYCLE RC</th>\n",
       "      <th>MINUTES PLAYED</th>\n",
       "      <th>NATIONALITY</th>\n",
       "      <th>AGE</th>\n",
       "      <th>HEIGHT</th>\n",
       "      <th>WEIGHT</th>\n",
       "    </tr>\n",
       "  </thead>\n",
       "  <tbody>\n",
       "    <tr>\n",
       "      <th>0</th>\n",
       "      <td>18</td>\n",
       "      <td>Elena Julve Pérez</td>\n",
       "      <td>FC Levante Las Planas</td>\n",
       "      <td>DEL</td>\n",
       "      <td>20</td>\n",
       "      <td>1</td>\n",
       "      <td>0</td>\n",
       "      <td>1</td>\n",
       "      <td>0</td>\n",
       "      <td>4</td>\n",
       "      <td>1689</td>\n",
       "      <td>Spain</td>\n",
       "      <td>22</td>\n",
       "      <td>1.54</td>\n",
       "      <td>44</td>\n",
       "    </tr>\n",
       "    <tr>\n",
       "      <th>1</th>\n",
       "      <td>19</td>\n",
       "      <td>Marina Martí Serna</td>\n",
       "      <td>Alhama CF El Pozo</td>\n",
       "      <td>DEL</td>\n",
       "      <td>20</td>\n",
       "      <td>5</td>\n",
       "      <td>1</td>\n",
       "      <td>1</td>\n",
       "      <td>0</td>\n",
       "      <td>4</td>\n",
       "      <td>1665</td>\n",
       "      <td>Spain</td>\n",
       "      <td>26</td>\n",
       "      <td>1.61</td>\n",
       "      <td>54</td>\n",
       "    </tr>\n",
       "    <tr>\n",
       "      <th>2</th>\n",
       "      <td>11</td>\n",
       "      <td>Alba Redondo Ferrer</td>\n",
       "      <td>Levante UD</td>\n",
       "      <td>DEL</td>\n",
       "      <td>19</td>\n",
       "      <td>19</td>\n",
       "      <td>5</td>\n",
       "      <td>0</td>\n",
       "      <td>0</td>\n",
       "      <td>5</td>\n",
       "      <td>1639</td>\n",
       "      <td>Spain</td>\n",
       "      <td>26</td>\n",
       "      <td>1.69</td>\n",
       "      <td>63</td>\n",
       "    </tr>\n",
       "    <tr>\n",
       "      <th>3</th>\n",
       "      <td>9</td>\n",
       "      <td>Sheila Guijarro Gómez</td>\n",
       "      <td>Villarreal CF</td>\n",
       "      <td>DEL</td>\n",
       "      <td>19</td>\n",
       "      <td>8</td>\n",
       "      <td>0</td>\n",
       "      <td>5</td>\n",
       "      <td>0</td>\n",
       "      <td>5</td>\n",
       "      <td>1612</td>\n",
       "      <td>Spain</td>\n",
       "      <td>26</td>\n",
       "      <td>1.71</td>\n",
       "      <td>68</td>\n",
       "    </tr>\n",
       "    <tr>\n",
       "      <th>4</th>\n",
       "      <td>11</td>\n",
       "      <td>María Florencia Bonsegund...</td>\n",
       "      <td>Madrid CFF</td>\n",
       "      <td>DEL</td>\n",
       "      <td>20</td>\n",
       "      <td>6</td>\n",
       "      <td>1</td>\n",
       "      <td>1</td>\n",
       "      <td>0</td>\n",
       "      <td>4</td>\n",
       "      <td>1578</td>\n",
       "      <td>Argentina</td>\n",
       "      <td>29</td>\n",
       "      <td>1.68</td>\n",
       "      <td>59</td>\n",
       "    </tr>\n",
       "  </tbody>\n",
       "</table>\n",
       "</div>"
      ],
      "text/plain": [
       "   SOCCER NUMBER                          NAME                   TEAM  \\\n",
       "0             18             Elena Julve Pérez  FC Levante Las Planas   \n",
       "1             19            Marina Martí Serna      Alhama CF El Pozo   \n",
       "2             11           Alba Redondo Ferrer             Levante UD   \n",
       "3              9         Sheila Guijarro Gómez          Villarreal CF   \n",
       "4             11  María Florencia Bonsegund...             Madrid CFF   \n",
       "\n",
       "  POSITION  MATCHES PLAYED  GOALS  ASSISTS  YELLOW CARDS  RED CARDS  CYCLE RC  \\\n",
       "0      DEL              20      1        0             1          0         4   \n",
       "1      DEL              20      5        1             1          0         4   \n",
       "2      DEL              19     19        5             0          0         5   \n",
       "3      DEL              19      8        0             5          0         5   \n",
       "4      DEL              20      6        1             1          0         4   \n",
       "\n",
       "   MINUTES PLAYED NATIONALITY  AGE  HEIGHT  WEIGHT  \n",
       "0            1689       Spain   22    1.54      44  \n",
       "1            1665       Spain   26    1.61      54  \n",
       "2            1639       Spain   26    1.69      63  \n",
       "3            1612       Spain   26    1.71      68  \n",
       "4            1578   Argentina   29    1.68      59  "
      ]
     },
     "execution_count": 20,
     "metadata": {},
     "output_type": "execute_result"
    }
   ],
   "source": [
    "df.head(5)"
   ]
  },
  {
   "cell_type": "code",
   "execution_count": 21,
   "id": "c2a51f99",
   "metadata": {},
   "outputs": [
    {
     "name": "stdout",
     "output_type": "stream",
     "text": [
      "SOCCER NUMBER\n",
      "NAME\n",
      "TEAM\n",
      "POSITION\n",
      "MATCHES PLAYED\n",
      "GOALS\n",
      "ASSISTS\n",
      "YELLOW CARDS\n",
      "RED CARDS\n",
      "CYCLE RC\n",
      "MINUTES PLAYED\n",
      "NATIONALITY\n",
      "AGE\n",
      "HEIGHT\n",
      "WEIGHT\n"
     ]
    }
   ],
   "source": [
    "for col in df.columns:\n",
    "    print(col)"
   ]
  },
  {
   "cell_type": "code",
   "execution_count": 22,
   "id": "4c4dc940",
   "metadata": {},
   "outputs": [
    {
     "data": {
      "text/plain": [
       "370"
      ]
     },
     "execution_count": 22,
     "metadata": {},
     "output_type": "execute_result"
    }
   ],
   "source": [
    "df.shape[0]"
   ]
  },
  {
   "cell_type": "code",
   "execution_count": 23,
   "id": "a3e39a07",
   "metadata": {},
   "outputs": [
    {
     "data": {
      "text/plain": [
       "SOCCER NUMBER  NAME                            TEAM                 POSITION  MATCHES PLAYED  GOALS  ASSISTS  YELLOW CARDS  RED CARDS  CYCLE RC  MINUTES PLAYED  NATIONALITY     AGE  HEIGHT  WEIGHT\n",
       "1              Adriana Nanclares Romero        Real Sociedad        POR       11              0      0        0             0          5         990             Spain           20   1.70    52        1\n",
       "17             Fatima Alexandra Figueira P...  Deportivo Alavés     MED       13              0      0        4             0          1         809             Portugal        27   1.70    63        1\n",
       "               Salma Paralluelo Ayingono       FC Barcelona         DEL       12              8      2        0             0          5         535             Spain           19   1.74    62        1\n",
       "               Rosa Márquez Baena              Real Betis           MED       7               0      1        1             0          4         535             Spain           22   1.58    46        1\n",
       "               Nerea Nevado Gómez              Athletic Club        DEF       20              0      2        1             0          4         1716            Spain           21   1.60    55        1\n",
       "                                                                                                                                                                                                       ..\n",
       "9              Gabriela Nunes da Silva         Madrid CFF           DEL       20              7      4        3             0          2         1012            Brasil          25   1.69    56        1\n",
       "               Asun Martínez Salinas           Valencia Féminas CF  DEL       20              4      3        0             0          5         1443            Spain           21   1.58    55        1\n",
       "               Andrea Staskova                 Atlético de Madrid   DEL       18              2      1        0             0          5         373             Czech Republic  22   1.80    65        1\n",
       "               Ana Franco de la Vega           Sevilla FC           DEL       13              5      1        0             0          5         506             Spain           23   1.70    56        1\n",
       "36             Andrea Tarazona Brisa           Levante UD           POR       11              0      0        0             0          5         985             Spain           18   1.65    56        1\n",
       "Length: 370, dtype: int64"
      ]
     },
     "execution_count": 23,
     "metadata": {},
     "output_type": "execute_result"
    }
   ],
   "source": [
    "df.value_counts()"
   ]
  },
  {
   "cell_type": "code",
   "execution_count": 24,
   "id": "c36220f1",
   "metadata": {},
   "outputs": [
    {
     "data": {
      "text/plain": [
       "<bound method DataFrame.info of      SOCCER NUMBER                          NAME                   TEAM  \\\n",
       "0               18             Elena Julve Pérez  FC Levante Las Planas   \n",
       "1               19            Marina Martí Serna      Alhama CF El Pozo   \n",
       "2               11           Alba Redondo Ferrer             Levante UD   \n",
       "3                9         Sheila Guijarro Gómez          Villarreal CF   \n",
       "4               11  María Florencia Bonsegund...             Madrid CFF   \n",
       "..             ...                           ...                    ...   \n",
       "365             24           Paula Vizoso Prieto     Atlético de Madrid   \n",
       "366             13    Catalina Thomas Coll Lluch           FC Barcelona   \n",
       "367             13        Andreea María Paraluta             Levante UD   \n",
       "368             24           Olatz Santana Amado          Real Sociedad   \n",
       "369              1          Laia García Dalmases  FC Levante Las Planas   \n",
       "\n",
       "    POSITION  MATCHES PLAYED  GOALS  ASSISTS  YELLOW CARDS  RED CARDS  \\\n",
       "0        DEL              20      1        0             1          0   \n",
       "1        DEL              20      5        1             1          0   \n",
       "2        DEL              19     19        5             0          0   \n",
       "3        DEL              19      8        0             5          0   \n",
       "4        DEL              20      6        1             1          0   \n",
       "..       ...             ...    ...      ...           ...        ...   \n",
       "365      POR               0      0        0             0          0   \n",
       "366      POR               0      0        0             0          0   \n",
       "367      POR               0      0        0             0          0   \n",
       "368      POR               0      0        0             0          0   \n",
       "369      POR               0      0        0             0          0   \n",
       "\n",
       "     CYCLE RC  MINUTES PLAYED NATIONALITY  AGE  HEIGHT  WEIGHT  \n",
       "0           4            1689       Spain   22    1.54      44  \n",
       "1           4            1665       Spain   26    1.61      54  \n",
       "2           5            1639       Spain   26    1.69      63  \n",
       "3           5            1612       Spain   26    1.71      68  \n",
       "4           4            1578   Argentina   29    1.68      59  \n",
       "..        ...             ...         ...  ...     ...     ...  \n",
       "365         5               0       Spain   23    0.00       0  \n",
       "366         5               0       Spain   21    1.70      68  \n",
       "367         5               0     Romania   28    1.72      63  \n",
       "368         5               0       Spain   25    0.00       0  \n",
       "369         5               0       Spain   22    0.00       0  \n",
       "\n",
       "[370 rows x 15 columns]>"
      ]
     },
     "execution_count": 24,
     "metadata": {},
     "output_type": "execute_result"
    }
   ],
   "source": [
    "df.info"
   ]
  },
  {
   "cell_type": "code",
   "execution_count": null,
   "id": "6b3d5943",
   "metadata": {},
   "outputs": [],
   "source": []
  }
 ],
 "metadata": {
  "kernelspec": {
   "display_name": "Python 3 (ipykernel)",
   "language": "python",
   "name": "python3"
  },
  "language_info": {
   "codemirror_mode": {
    "name": "ipython",
    "version": 3
   },
   "file_extension": ".py",
   "mimetype": "text/x-python",
   "name": "python",
   "nbconvert_exporter": "python",
   "pygments_lexer": "ipython3",
   "version": "3.9.13"
  }
 },
 "nbformat": 4,
 "nbformat_minor": 5
}
