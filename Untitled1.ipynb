{
 "cells": [
  {
   "cell_type": "code",
   "execution_count": 67,
   "id": "fccd2af1",
   "metadata": {},
   "outputs": [],
   "source": [
    "import requests as req\n",
    "import time\n",
    "import openpyxl\n",
    "import warnings\n",
    "import pandas as pd\n"
   ]
  },
  {
   "cell_type": "code",
   "execution_count": 68,
   "id": "1d01bed9",
   "metadata": {},
   "outputs": [
    {
     "name": "stdout",
     "output_type": "stream",
     "text": [
      " PTOSPJPGPEPPGFGCDGÚltimos 5\n"
     ]
    }
   ],
   "source": [
    "import requests\n",
    "from bs4 import BeautifulSoup\n",
    "\n",
    "url = 'https://www.futboleras.es/liga-f-futbol-femenino.html'\n",
    "response = req.get(url)\n",
    "soup = BeautifulSoup(response.content, 'html.parser')\n",
    "tag_content = soup.find(id='classificationHeadingItemsWrapper').text\n",
    "print(tag_content)\n"
   ]
  },
  {
   "cell_type": "code",
   "execution_count": 69,
   "id": "2babbb36",
   "metadata": {},
   "outputs": [
    {
     "data": {
      "text/plain": [
       "[]"
      ]
     },
     "execution_count": 69,
     "metadata": {},
     "output_type": "execute_result"
    }
   ],
   "source": [
    "soup.find_all('h2', class_='classificationHeadingTitle')"
   ]
  },
  {
   "cell_type": "code",
   "execution_count": 64,
   "id": "de8a390a",
   "metadata": {},
   "outputs": [
    {
     "name": "stdout",
     "output_type": "stream",
     "text": [
      "PTOS\n",
      "PJ\n",
      "PG\n",
      "PE\n",
      "PP\n",
      "GF\n",
      "GC\n",
      "DG\n",
      "Últimos 5\n"
     ]
    }
   ],
   "source": [
    "# Hacemos una petición HTTP a la página que queremos raspar\n",
    "response = req.get(url)\n",
    "\n",
    "# Creamos el objeto BeautifulSoup a partir del contenido HTML de la página\n",
    "soup = BeautifulSoup(response.content, 'html.parser')\n",
    "\n",
    "# Buscamos todas las etiquetas con class=\"classificationHeadingItem\"\n",
    "etiquetas = soup.find_all('div', {'class': 'classificationHeadingItem'})\n",
    "\n",
    "# Iteramos sobre las etiquetas encontradas e imprimimos su texto\n",
    "for etiqueta in etiquetas:\n",
    "    print(etiqueta.text)\n"
   ]
  },
  {
   "cell_type": "code",
   "execution_count": 66,
   "id": "a83492c7",
   "metadata": {},
   "outputs": [],
   "source": [
    "response = requests.get(url)\n",
    "soup = BeautifulSoup(response.content, \"html.parser\")\n",
    "elemento = soup.find(id=\"classificationItemsWrapper\")"
   ]
  },
  {
   "cell_type": "code",
   "execution_count": null,
   "id": "ec1a9597",
   "metadata": {},
   "outputs": [
    {
     "ename": "JupyterRequireError",
     "evalue": "notebook/js/codecell: Timeout. Library 'notebook/js/codecell' is not loaded.",
     "output_type": "error",
     "traceback": [
      "Error: notebook/js/codecell: Timeout. Library 'notebook/js/codecell' is not loaded.",
      "    at errback (http://localhost:8888/nbextensions/jupyter-require/core.js?v=20230308121150:190:29)"
     ]
    }
   ],
   "source": []
  },
  {
   "cell_type": "code",
   "execution_count": null,
   "id": "ac63db22",
   "metadata": {},
   "outputs": [],
   "source": []
  },
  {
   "cell_type": "code",
   "execution_count": 30,
   "id": "0c1f0ac9",
   "metadata": {},
   "outputs": [],
   "source": [
    "#df = pd.read_csv('..\\Proyecto-Final\\src\\estadisticas-jugadoras-liga-.csv', delimiter=';')"
   ]
  },
  {
   "cell_type": "code",
   "execution_count": 57,
   "id": "19e03fd2",
   "metadata": {},
   "outputs": [],
   "source": [
    "#df[sorted(df.columns)]"
   ]
  },
  {
   "cell_type": "code",
   "execution_count": null,
   "id": "578685e9",
   "metadata": {},
   "outputs": [],
   "source": []
  }
 ],
 "metadata": {
  "kernelspec": {
   "display_name": "Python 3 (ipykernel)",
   "language": "python",
   "name": "python3"
  },
  "language_info": {
   "codemirror_mode": {
    "name": "ipython",
    "version": 3
   },
   "file_extension": ".py",
   "mimetype": "text/x-python",
   "name": "python",
   "nbconvert_exporter": "python",
   "pygments_lexer": "ipython3",
   "version": "3.9.13"
  }
 },
 "nbformat": 4,
 "nbformat_minor": 5
}
