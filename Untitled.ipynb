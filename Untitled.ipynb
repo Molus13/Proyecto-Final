{
 "cells": [
  {
   "cell_type": "code",
   "execution_count": 12,
   "id": "46010014",
   "metadata": {},
   "outputs": [],
   "source": [
    "from bs4 import BeautifulSoup as bs\n",
    "import requests as req\n",
    "from selenium import webdriver\n",
    "import time\n",
    "from webdriver_manager.chrome import ChromeDriverManager\n",
    "from selenium.webdriver.chrome.options import Options\n",
    "from selenium.webdriver.common.by import By\n",
    "import warnings\n",
    "import pandas as pd\n",
    "from selenium.webdriver.support.ui import WebDriverWait\n",
    "from selenium.webdriver.support import expected_conditions as EC\n",
    "warnings.filterwarnings('ignore')"
   ]
  },
  {
   "cell_type": "code",
   "execution_count": 2,
   "id": "d532d8cf",
   "metadata": {},
   "outputs": [],
   "source": [
    "options=Options()\n",
    "options.add_argument('--start-maximized')\n",
    "options.add_experimental_option(\"excludeSwitches\", [\"enable-automation\"])\n",
    "options.add_experimental_option('useAutomationExtension', False)"
   ]
  },
  {
   "cell_type": "code",
   "execution_count": 3,
   "id": "d74ec0d6",
   "metadata": {},
   "outputs": [],
   "source": [
    "#%pip install webdriver-manager"
   ]
  },
  {
   "cell_type": "code",
   "execution_count": 4,
   "id": "5b3ee0ed",
   "metadata": {},
   "outputs": [],
   "source": [
    "from webdriver_manager.chrome import ChromeDriverManager # sustituye al archivo"
   ]
  },
  {
   "cell_type": "code",
   "execution_count": 5,
   "id": "ea680d59",
   "metadata": {},
   "outputs": [],
   "source": [
    "PATH = ChromeDriverManager().install()     # instala el driver de chrome\n"
   ]
  },
  {
   "cell_type": "code",
   "execution_count": 6,
   "id": "9d965862",
   "metadata": {},
   "outputs": [],
   "source": [
    "driver=webdriver.Chrome(PATH)       # abre una venta una de chrome"
   ]
  },
  {
   "cell_type": "code",
   "execution_count": 7,
   "id": "2f84648d",
   "metadata": {},
   "outputs": [],
   "source": [
    "driver.get('https://www.futboleras.es/unete.html')"
   ]
  },
  {
   "cell_type": "code",
   "execution_count": 8,
   "id": "5c8664b1",
   "metadata": {},
   "outputs": [],
   "source": [
    "time.sleep(5)"
   ]
  },
  {
   "cell_type": "code",
   "execution_count": 9,
   "id": "2ccb97c2",
   "metadata": {},
   "outputs": [],
   "source": [
    "driver.find_element(By.XPATH, '//*[@id=\"qc-cmp2-ui\"]/div[2]/div/button[2]/span').click()  # rechaza cookies"
   ]
  },
  {
   "cell_type": "code",
   "execution_count": 10,
   "id": "1f3ab3ee",
   "metadata": {},
   "outputs": [],
   "source": [
    "driver.find_element(By.XPATH, '//*[@id=\"websiteMenuWrapper\"]/a[2]').click()"
   ]
  },
  {
   "cell_type": "code",
   "execution_count": 15,
   "id": "815eaa56",
   "metadata": {},
   "outputs": [],
   "source": [
    "url = 'https://www.futboleras.es/liga-f-futbol-femenino.html'"
   ]
  },
  {
   "cell_type": "code",
   "execution_count": 21,
   "id": "c6a50d24",
   "metadata": {},
   "outputs": [
    {
     "data": {
      "text/plain": [
       "b\"<!doctype html><html lang='es'><head><title>Liga F F\\xc3\\xbatbol Femenino - Futboleras</title><meta http-equiv='Content-Type' content='text/html; charset=UTF-8'/><meta name='viewport' content='width=device-width'/><meta name='Description' content='Clasificaci\\xc3\\xb3n, resultados y estad\\xc3\\xadsticas de Liga F. La primera divisi\\xc3\\xb3n de la liga de f\\xc3\\xbatbol femenino en Espa\\xc3\\xb1a.'/><meta name='Keywords' content='Futboleras'/><meta name='Robots' content='index, follow'/><meta name='Vary' content='User-Agent'/><meta name='format-detection' content='telephone=no'/><meta property='og:title' content='Liga F F\\xc3\\xbatbol Femenino - Futboleras'><meta property='og:description' content='Clasificaci\\xc3\\xb3n, resultados y estad\\xc3\\xadsticas de Liga F. La primera divisi\\xc3\\xb3n de la liga de f\\xc3\\xbatbol femenino en Espa\\xc3\\xb1a.'><meta property='og:type' content='website'><meta property='og:image' content='https://www.futboleras.es/images/shareLogo.jpg'><meta property='og:url' content='https://www.futboleras.es/liga-f-futbol-femenino.html'><meta na\""
      ]
     },
     "execution_count": 21,
     "metadata": {},
     "output_type": "execute_result"
    }
   ],
   "source": [
    "# usamos requests para extraer el HTML\n",
    "\n",
    "html=req.get(url).content   # o .text\n",
    "\n",
    "html[:1000]"
   ]
  },
  {
   "cell_type": "code",
   "execution_count": 22,
   "id": "0ac9c2ef",
   "metadata": {},
   "outputs": [
    {
     "data": {
      "text/plain": [
       "bs4.BeautifulSoup"
      ]
     },
     "execution_count": 22,
     "metadata": {},
     "output_type": "execute_result"
    }
   ],
   "source": [
    "#parsear\n",
    "\n",
    "soup=bs(html, 'html.parser')\n",
    "\n",
    "type(soup)"
   ]
  },
  {
   "cell_type": "code",
   "execution_count": null,
   "id": "758cf62d",
   "metadata": {},
   "outputs": [],
   "source": []
  },
  {
   "cell_type": "code",
   "execution_count": 25,
   "id": "ba626371",
   "metadata": {},
   "outputs": [
    {
     "ename": "NameError",
     "evalue": "name 'tabla' is not defined",
     "output_type": "error",
     "traceback": [
      "\u001b[1;31m---------------------------------------------------------------------------\u001b[0m",
      "\u001b[1;31mNameError\u001b[0m                                 Traceback (most recent call last)",
      "\u001b[1;32m~\\AppData\\Local\\Temp\\ipykernel_19528\\1381697899.py\u001b[0m in \u001b[0;36m<module>\u001b[1;34m\u001b[0m\n\u001b[1;32m----> 1\u001b[1;33m \u001b[0mclasificacion\u001b[0m \u001b[1;33m=\u001b[0m \u001b[0mtabla\u001b[0m\u001b[1;33m.\u001b[0m\u001b[0mfind_all\u001b[0m\u001b[1;33m(\u001b[0m\u001b[1;34m'div class style'\u001b[0m\u001b[1;33m)\u001b[0m\u001b[1;33m[\u001b[0m\u001b[1;36m0\u001b[0m\u001b[1;33m]\u001b[0m\u001b[1;33m.\u001b[0m\u001b[0mtext\u001b[0m\u001b[1;33m.\u001b[0m\u001b[0msplit\u001b[0m\u001b[1;33m(\u001b[0m\u001b[1;34m'\\n'\u001b[0m\u001b[1;33m)\u001b[0m\u001b[1;33m\u001b[0m\u001b[1;33m\u001b[0m\u001b[0m\n\u001b[0m",
      "\u001b[1;31mNameError\u001b[0m: name 'tabla' is not defined"
     ]
    }
   ],
   "source": [
    "clasificacion = tabla.find_all('div class style')[0].text.split('\\n')"
   ]
  },
  {
   "cell_type": "code",
   "execution_count": null,
   "id": "a235471d",
   "metadata": {},
   "outputs": [],
   "source": []
  },
  {
   "cell_type": "code",
   "execution_count": null,
   "id": "28b1fd5a",
   "metadata": {},
   "outputs": [],
   "source": []
  },
  {
   "cell_type": "code",
   "execution_count": null,
   "id": "68c6a22f",
   "metadata": {},
   "outputs": [],
   "source": [
    "\n"
   ]
  },
  {
   "cell_type": "code",
   "execution_count": null,
   "id": "bea638d8",
   "metadata": {},
   "outputs": [],
   "source": []
  }
 ],
 "metadata": {
  "kernelspec": {
   "display_name": "Python 3 (ipykernel)",
   "language": "python",
   "name": "python3"
  },
  "language_info": {
   "codemirror_mode": {
    "name": "ipython",
    "version": 3
   },
   "file_extension": ".py",
   "mimetype": "text/x-python",
   "name": "python",
   "nbconvert_exporter": "python",
   "pygments_lexer": "ipython3",
   "version": "3.9.13"
  }
 },
 "nbformat": 4,
 "nbformat_minor": 5
}
