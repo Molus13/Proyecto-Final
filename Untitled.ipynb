{
 "cells": [
  {
   "cell_type": "code",
   "execution_count": 49,
   "id": "99db9ceb",
   "metadata": {},
   "outputs": [],
   "source": [
    "from bs4 import BeautifulSoup as bs\n",
    "import requests as req\n",
    "from selenium import webdriver\n",
    "import time\n",
    "from webdriver_manager.chrome import ChromeDriverManager\n",
    "from selenium.webdriver.chrome.options import Options\n",
    "from selenium.webdriver.common.by import By\n",
    "import warnings\n",
    "import pandas as pd\n",
    "from selenium.webdriver.support.ui import WebDriverWait\n",
    "from selenium.webdriver.support import expected_conditions as EC\n",
    "warnings.filterwarnings('ignore')"
   ]
  },
  {
   "cell_type": "code",
   "execution_count": 50,
   "id": "2ed85904",
   "metadata": {},
   "outputs": [],
   "source": [
    "options=Options()\n",
    "options.add_argument('--start-maximized')\n",
    "options.add_experimental_option(\"excludeSwitches\", [\"enable-automation\"])\n",
    "options.add_experimental_option('useAutomationExtension', False)"
   ]
  },
  {
   "cell_type": "code",
   "execution_count": 51,
   "id": "05fe813f",
   "metadata": {},
   "outputs": [],
   "source": [
    "#%pip install webdriver-manager"
   ]
  },
  {
   "cell_type": "code",
   "execution_count": 52,
   "id": "105532b6",
   "metadata": {},
   "outputs": [],
   "source": [
    "from webdriver_manager.chrome import ChromeDriverManager # sustituye al archivo"
   ]
  },
  {
   "cell_type": "code",
   "execution_count": 53,
   "id": "37f9a9a4",
   "metadata": {},
   "outputs": [
    {
     "name": "stderr",
     "output_type": "stream",
     "text": [
      "[WDM] - Downloading: 100%|██████████| 6.78M/6.78M [00:00<00:00, 35.3MB/s]\n"
     ]
    }
   ],
   "source": [
    "PATH = ChromeDriverManager().install()     # instala el driver de chrome\n"
   ]
  },
  {
   "cell_type": "code",
   "execution_count": 54,
   "id": "95a340e7",
   "metadata": {},
   "outputs": [],
   "source": [
    "driver=webdriver.Chrome(PATH)       # abre una venta una de chrome"
   ]
  },
  {
   "cell_type": "code",
   "execution_count": 55,
   "id": "e29150d6",
   "metadata": {},
   "outputs": [],
   "source": [
    "driver.get('https://www.futboleras.es/unete.html')"
   ]
  },
  {
   "cell_type": "code",
   "execution_count": 56,
   "id": "85adb9f0",
   "metadata": {},
   "outputs": [],
   "source": [
    "time.sleep(5)"
   ]
  },
  {
   "cell_type": "code",
   "execution_count": 57,
   "id": "cc4bb5e2",
   "metadata": {},
   "outputs": [],
   "source": [
    "driver.find_element(By.XPATH, '//*[@id=\"qc-cmp2-ui\"]/div[2]/div/button[2]/span').click()  # rechaza cookies"
   ]
  },
  {
   "cell_type": "code",
   "execution_count": 10,
   "id": "30992475",
   "metadata": {},
   "outputs": [],
   "source": [
    "driver.find_element(By.XPATH, '//*[@id=\"websiteMenuWrapper\"]/a[2]').click()"
   ]
  },
  {
   "cell_type": "code",
   "execution_count": 15,
   "id": "6d06829e",
   "metadata": {},
   "outputs": [],
   "source": [
    "url = 'https://www.futboleras.es/liga-f-futbol-femenino.html'"
   ]
  },
  {
   "cell_type": "code",
   "execution_count": 58,
   "id": "453c8032",
   "metadata": {},
   "outputs": [
    {
     "data": {
      "text/plain": [
       "b\"<!doctype html><html lang='es'><head><title>Liga F F\\xc3\\xbatbol Femenino - Futboleras</title><meta http-equiv='Content-Type' content='text/html; charset=UTF-8'/><meta name='viewport' content='width=device-width'/><meta name='Description' content='Clasificaci\\xc3\\xb3n, resultados y estad\\xc3\\xadsticas de Liga F. La primera divisi\\xc3\\xb3n de la liga de f\\xc3\\xbatbol femenino en Espa\\xc3\\xb1a.'/><meta name='Keywords' content='Futboleras'/><meta name='Robots' content='index, follow'/><meta name='Vary' content='User-Agent'/><meta name='format-detection' content='telephone=no'/><meta property='og:title' content='Liga F F\\xc3\\xbatbol Femenino - Futboleras'><meta property='og:description' content='Clasificaci\\xc3\\xb3n, resultados y estad\\xc3\\xadsticas de Liga F. La primera divisi\\xc3\\xb3n de la liga de f\\xc3\\xbatbol femenino en Espa\\xc3\\xb1a.'><meta property='og:type' content='website'><meta property='og:image' content='https://www.futboleras.es/images/shareLogo.jpg'><meta property='og:url' content='https://www.futboleras.es/liga-f-futbol-femenino.html'><meta na\""
      ]
     },
     "execution_count": 58,
     "metadata": {},
     "output_type": "execute_result"
    }
   ],
   "source": [
    "# usamos requests para extraer el HTML\n",
    "\n",
    "html=req.get(url).content   # o .text\n",
    "\n",
    "html[:1000]"
   ]
  },
  {
   "cell_type": "code",
   "execution_count": 59,
   "id": "dd7848c5",
   "metadata": {},
   "outputs": [
    {
     "data": {
      "text/plain": [
       "bs4.BeautifulSoup"
      ]
     },
     "execution_count": 59,
     "metadata": {},
     "output_type": "execute_result"
    }
   ],
   "source": [
    "#parsear\n",
    "\n",
    "soup=bs(html, 'html.parser')\n",
    "\n",
    "type(soup)"
   ]
  },
  {
   "cell_type": "code",
   "execution_count": 60,
   "id": "bcae0e65",
   "metadata": {},
   "outputs": [
    {
     "data": {
      "text/plain": [
       "<div id=\"classificationHeadingItemsWrapper\"><div class=\"classificationHeadingTitle\" style=\"width: 46%; background-image: url(/images/website/liga0Logo.light.png)\"> </div><div class=\"classificationHeadingItem\" style=\"width: 5%\">PTOS</div><div class=\"classificationHeadingItem\" style=\"width: 5%\">PJ</div><div class=\"classificationHeadingItem\" style=\"width: 5%\">PG</div><div class=\"classificationHeadingItem\" style=\"width: 5%\">PE</div><div class=\"classificationHeadingItem\" style=\"width: 5%\">PP</div><div class=\"classificationHeadingItem\" style=\"width: 5%\">GF</div><div class=\"classificationHeadingItem\" style=\"width: 5%\">GC</div><div class=\"classificationHeadingItem\" style=\"width: 5%\">DG</div><div class=\"classificationHeadingItem\" style=\"width: 13%; padding-right: 1%\">Últimos 5</div></div>"
      ]
     },
     "execution_count": 60,
     "metadata": {},
     "output_type": "execute_result"
    }
   ],
   "source": [
    "soup.find('div', id='classificationHeadingItemsWrapper')"
   ]
  },
  {
   "cell_type": "code",
   "execution_count": 61,
   "id": "cd54a62e",
   "metadata": {},
   "outputs": [
    {
     "data": {
      "text/plain": [
       "<div class=\"classificationHeadingItem\" style=\"width: 5%\">PTOS</div>"
      ]
     },
     "execution_count": 61,
     "metadata": {},
     "output_type": "execute_result"
    }
   ],
   "source": [
    "soup.find('div', class_='classificationHeadingItem')"
   ]
  },
  {
   "cell_type": "code",
   "execution_count": 43,
   "id": "ab98d0df",
   "metadata": {},
   "outputs": [
    {
     "name": "stdout",
     "output_type": "stream",
     "text": [
      "PTOS\n",
      "PJ\n",
      "PG\n",
      "PE\n",
      "PP\n",
      "GF\n",
      "GC\n",
      "DG\n",
      "Últimos 5\n"
     ]
    }
   ],
   "source": [
    "# Hacemos una petición HTTP a la página que queremos raspar\n",
    "response = req.get(url)\n",
    "\n",
    "# Creamos el objeto BeautifulSoup a partir del contenido HTML de la página\n",
    "soup = BeautifulSoup(response.content, 'html.parser')\n",
    "\n",
    "# Buscamos todas las etiquetas con class=\"classificationHeadingItem\"\n",
    "etiquetas = soup.find_all('div', {'class': 'classificationHeadingItem'})\n",
    "\n",
    "# Iteramos sobre las etiquetas encontradas e imprimimos su texto\n",
    "for etiqueta in etiquetas:\n",
    "    print(etiqueta.text)\n"
   ]
  },
  {
   "cell_type": "code",
   "execution_count": 46,
   "id": "d5628cd9",
   "metadata": {},
   "outputs": [
    {
     "name": "stdout",
     "output_type": "stream",
     "text": [
      " PTOSPJPGPEPPGFGCDGÚltimos 5\n"
     ]
    }
   ],
   "source": [
    "response = req.get(url)\n",
    "soup = BeautifulSoup(response.content, 'html.parser')\n",
    "tag_content = soup.find(id='classificationHeadingItemsWrapper').text\n",
    "print(tag_content)"
   ]
  },
  {
   "cell_type": "code",
   "execution_count": 48,
   "id": "acd38c97",
   "metadata": {},
   "outputs": [],
   "source": [
    "classification_items_wrapper = soup.find('div', {'id': 'classificationItemsWrapper'})\n",
    "\n",
    "# Itera a través de todas las secciones dentro del div\n",
    "for section in classification_items_wrapper.find_all('section'):\n",
    "    # Haz algo con cada sección\n",
    "    print(section)"
   ]
  },
  {
   "cell_type": "code",
   "execution_count": null,
   "id": "d9b7b401",
   "metadata": {},
   "outputs": [],
   "source": []
  },
  {
   "cell_type": "code",
   "execution_count": null,
   "id": "805120f6",
   "metadata": {},
   "outputs": [],
   "source": []
  }
 ],
 "metadata": {
  "kernelspec": {
   "display_name": "Python 3 (ipykernel)",
   "language": "python",
   "name": "python3"
  },
  "language_info": {
   "codemirror_mode": {
    "name": "ipython",
    "version": 3
   },
   "file_extension": ".py",
   "mimetype": "text/x-python",
   "name": "python",
   "nbconvert_exporter": "python",
   "pygments_lexer": "ipython3",
   "version": "3.9.13"
  }
 },
 "nbformat": 4,
 "nbformat_minor": 5
}
